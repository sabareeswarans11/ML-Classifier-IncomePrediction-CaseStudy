{
 "cells": [
  {
   "cell_type": "code",
   "execution_count": 1,
   "metadata": {},
   "outputs": [],
   "source": [
    "# Load Python Libraries\n",
    "import pandas as pd\n",
    "import numpy as np\n",
    "import seaborn as sns\n",
    "import matplotlib.pyplot as plt\n",
    "from sklearn.metrics import classification_report\n",
    "from sklearn.metrics import confusion_matrix\n",
    "from sklearn.metrics import accuracy_score\n",
    "from sklearn.linear_model import LogisticRegression\n",
    "from sklearn.model_selection import train_test_split\n",
    "from sklearn.model_selection import cross_val_score\n",
    "from sklearn import preprocessing\n",
    "from sklearn.preprocessing import StandardScaler\n",
    "from sklearn.svm import SVC\n",
    "from sklearn.model_selection import GridSearchCV\n",
    "import joblib\n",
    "from sklearn.ensemble import GradientBoostingClassifier,RandomForestClassifier,BaggingClassifier\n",
    "import xgboost as xgb\n",
    "from sklearn.metrics import roc_curve\n",
    "import os\n",
    "\n",
    "# Absolute path \n",
    "sab_absolute_path = os.path.dirname(os.path.abspath(\"__file__\"))"
   ]
  },
  {
   "cell_type": "code",
   "execution_count": 2,
   "metadata": {
    "pycharm": {
     "name": "#%%\n"
    }
   },
   "outputs": [],
   "source": [
    "# Loading the Dataset\n",
    "\n",
    "columns_list=['age','workclass','fnlwgt','education','education-num','marital-status','occupation','relationship','race','sex','capital-gain','capital-loss','hours-per-week','native-country','income category']\n",
    "df_new= pd.read_csv(sab_absolute_path+'/Dataset/adult.data',names=columns_list,sep=',')"
   ]
  },
  {
   "cell_type": "code",
   "execution_count": 3,
   "metadata": {
    "pycharm": {
     "name": "#%%\n"
    }
   },
   "outputs": [
    {
     "name": "stdout",
     "output_type": "stream",
     "text": [
      "<class 'pandas.core.frame.DataFrame'>\n",
      "RangeIndex: 32561 entries, 0 to 32560\n",
      "Data columns (total 15 columns):\n",
      " #   Column           Non-Null Count  Dtype \n",
      "---  ------           --------------  ----- \n",
      " 0   age              32561 non-null  int64 \n",
      " 1   workclass        32561 non-null  object\n",
      " 2   fnlwgt           32561 non-null  int64 \n",
      " 3   education        32561 non-null  object\n",
      " 4   education-num    32561 non-null  int64 \n",
      " 5   marital-status   32561 non-null  object\n",
      " 6   occupation       32561 non-null  object\n",
      " 7   relationship     32561 non-null  object\n",
      " 8   race             32561 non-null  object\n",
      " 9   sex              32561 non-null  object\n",
      " 10  capital-gain     32561 non-null  int64 \n",
      " 11  capital-loss     32561 non-null  int64 \n",
      " 12  hours-per-week   32561 non-null  int64 \n",
      " 13  native-country   32561 non-null  object\n",
      " 14  income category  32561 non-null  object\n",
      "dtypes: int64(6), object(9)\n",
      "memory usage: 3.7+ MB\n"
     ]
    },
    {
     "data": {
      "text/html": [
       "<div>\n",
       "<style scoped>\n",
       "    .dataframe tbody tr th:only-of-type {\n",
       "        vertical-align: middle;\n",
       "    }\n",
       "\n",
       "    .dataframe tbody tr th {\n",
       "        vertical-align: top;\n",
       "    }\n",
       "\n",
       "    .dataframe thead th {\n",
       "        text-align: right;\n",
       "    }\n",
       "</style>\n",
       "<table border=\"1\" class=\"dataframe\">\n",
       "  <thead>\n",
       "    <tr style=\"text-align: right;\">\n",
       "      <th></th>\n",
       "      <th>age</th>\n",
       "      <th>workclass</th>\n",
       "      <th>fnlwgt</th>\n",
       "      <th>education</th>\n",
       "      <th>education-num</th>\n",
       "      <th>marital-status</th>\n",
       "      <th>occupation</th>\n",
       "      <th>relationship</th>\n",
       "      <th>race</th>\n",
       "      <th>sex</th>\n",
       "      <th>capital-gain</th>\n",
       "      <th>capital-loss</th>\n",
       "      <th>hours-per-week</th>\n",
       "      <th>native-country</th>\n",
       "      <th>income category</th>\n",
       "    </tr>\n",
       "  </thead>\n",
       "  <tbody>\n",
       "    <tr>\n",
       "      <th>0</th>\n",
       "      <td>39</td>\n",
       "      <td>State-gov</td>\n",
       "      <td>77516</td>\n",
       "      <td>Bachelors</td>\n",
       "      <td>13</td>\n",
       "      <td>Never-married</td>\n",
       "      <td>Adm-clerical</td>\n",
       "      <td>Not-in-family</td>\n",
       "      <td>White</td>\n",
       "      <td>Male</td>\n",
       "      <td>2174</td>\n",
       "      <td>0</td>\n",
       "      <td>40</td>\n",
       "      <td>United-States</td>\n",
       "      <td>&lt;=50K</td>\n",
       "    </tr>\n",
       "    <tr>\n",
       "      <th>1</th>\n",
       "      <td>50</td>\n",
       "      <td>Self-emp-not-inc</td>\n",
       "      <td>83311</td>\n",
       "      <td>Bachelors</td>\n",
       "      <td>13</td>\n",
       "      <td>Married-civ-spouse</td>\n",
       "      <td>Exec-managerial</td>\n",
       "      <td>Husband</td>\n",
       "      <td>White</td>\n",
       "      <td>Male</td>\n",
       "      <td>0</td>\n",
       "      <td>0</td>\n",
       "      <td>13</td>\n",
       "      <td>United-States</td>\n",
       "      <td>&lt;=50K</td>\n",
       "    </tr>\n",
       "    <tr>\n",
       "      <th>2</th>\n",
       "      <td>38</td>\n",
       "      <td>Private</td>\n",
       "      <td>215646</td>\n",
       "      <td>HS-grad</td>\n",
       "      <td>9</td>\n",
       "      <td>Divorced</td>\n",
       "      <td>Handlers-cleaners</td>\n",
       "      <td>Not-in-family</td>\n",
       "      <td>White</td>\n",
       "      <td>Male</td>\n",
       "      <td>0</td>\n",
       "      <td>0</td>\n",
       "      <td>40</td>\n",
       "      <td>United-States</td>\n",
       "      <td>&lt;=50K</td>\n",
       "    </tr>\n",
       "    <tr>\n",
       "      <th>3</th>\n",
       "      <td>53</td>\n",
       "      <td>Private</td>\n",
       "      <td>234721</td>\n",
       "      <td>11th</td>\n",
       "      <td>7</td>\n",
       "      <td>Married-civ-spouse</td>\n",
       "      <td>Handlers-cleaners</td>\n",
       "      <td>Husband</td>\n",
       "      <td>Black</td>\n",
       "      <td>Male</td>\n",
       "      <td>0</td>\n",
       "      <td>0</td>\n",
       "      <td>40</td>\n",
       "      <td>United-States</td>\n",
       "      <td>&lt;=50K</td>\n",
       "    </tr>\n",
       "    <tr>\n",
       "      <th>4</th>\n",
       "      <td>28</td>\n",
       "      <td>Private</td>\n",
       "      <td>338409</td>\n",
       "      <td>Bachelors</td>\n",
       "      <td>13</td>\n",
       "      <td>Married-civ-spouse</td>\n",
       "      <td>Prof-specialty</td>\n",
       "      <td>Wife</td>\n",
       "      <td>Black</td>\n",
       "      <td>Female</td>\n",
       "      <td>0</td>\n",
       "      <td>0</td>\n",
       "      <td>40</td>\n",
       "      <td>Cuba</td>\n",
       "      <td>&lt;=50K</td>\n",
       "    </tr>\n",
       "    <tr>\n",
       "      <th>...</th>\n",
       "      <td>...</td>\n",
       "      <td>...</td>\n",
       "      <td>...</td>\n",
       "      <td>...</td>\n",
       "      <td>...</td>\n",
       "      <td>...</td>\n",
       "      <td>...</td>\n",
       "      <td>...</td>\n",
       "      <td>...</td>\n",
       "      <td>...</td>\n",
       "      <td>...</td>\n",
       "      <td>...</td>\n",
       "      <td>...</td>\n",
       "      <td>...</td>\n",
       "      <td>...</td>\n",
       "    </tr>\n",
       "    <tr>\n",
       "      <th>95</th>\n",
       "      <td>29</td>\n",
       "      <td>Local-gov</td>\n",
       "      <td>115585</td>\n",
       "      <td>Some-college</td>\n",
       "      <td>10</td>\n",
       "      <td>Never-married</td>\n",
       "      <td>Handlers-cleaners</td>\n",
       "      <td>Not-in-family</td>\n",
       "      <td>White</td>\n",
       "      <td>Male</td>\n",
       "      <td>0</td>\n",
       "      <td>0</td>\n",
       "      <td>50</td>\n",
       "      <td>United-States</td>\n",
       "      <td>&lt;=50K</td>\n",
       "    </tr>\n",
       "    <tr>\n",
       "      <th>96</th>\n",
       "      <td>48</td>\n",
       "      <td>Self-emp-not-inc</td>\n",
       "      <td>191277</td>\n",
       "      <td>Doctorate</td>\n",
       "      <td>16</td>\n",
       "      <td>Married-civ-spouse</td>\n",
       "      <td>Prof-specialty</td>\n",
       "      <td>Husband</td>\n",
       "      <td>White</td>\n",
       "      <td>Male</td>\n",
       "      <td>0</td>\n",
       "      <td>1902</td>\n",
       "      <td>60</td>\n",
       "      <td>United-States</td>\n",
       "      <td>&gt;50K</td>\n",
       "    </tr>\n",
       "    <tr>\n",
       "      <th>97</th>\n",
       "      <td>37</td>\n",
       "      <td>Private</td>\n",
       "      <td>202683</td>\n",
       "      <td>Some-college</td>\n",
       "      <td>10</td>\n",
       "      <td>Married-civ-spouse</td>\n",
       "      <td>Sales</td>\n",
       "      <td>Husband</td>\n",
       "      <td>White</td>\n",
       "      <td>Male</td>\n",
       "      <td>0</td>\n",
       "      <td>0</td>\n",
       "      <td>48</td>\n",
       "      <td>United-States</td>\n",
       "      <td>&gt;50K</td>\n",
       "    </tr>\n",
       "    <tr>\n",
       "      <th>98</th>\n",
       "      <td>48</td>\n",
       "      <td>Private</td>\n",
       "      <td>171095</td>\n",
       "      <td>Assoc-acdm</td>\n",
       "      <td>12</td>\n",
       "      <td>Divorced</td>\n",
       "      <td>Exec-managerial</td>\n",
       "      <td>Unmarried</td>\n",
       "      <td>White</td>\n",
       "      <td>Female</td>\n",
       "      <td>0</td>\n",
       "      <td>0</td>\n",
       "      <td>40</td>\n",
       "      <td>England</td>\n",
       "      <td>&lt;=50K</td>\n",
       "    </tr>\n",
       "    <tr>\n",
       "      <th>99</th>\n",
       "      <td>32</td>\n",
       "      <td>Federal-gov</td>\n",
       "      <td>249409</td>\n",
       "      <td>HS-grad</td>\n",
       "      <td>9</td>\n",
       "      <td>Never-married</td>\n",
       "      <td>Other-service</td>\n",
       "      <td>Own-child</td>\n",
       "      <td>Black</td>\n",
       "      <td>Male</td>\n",
       "      <td>0</td>\n",
       "      <td>0</td>\n",
       "      <td>40</td>\n",
       "      <td>United-States</td>\n",
       "      <td>&lt;=50K</td>\n",
       "    </tr>\n",
       "  </tbody>\n",
       "</table>\n",
       "<p>100 rows × 15 columns</p>\n",
       "</div>"
      ],
      "text/plain": [
       "    age          workclass  fnlwgt      education  education-num  \\\n",
       "0    39          State-gov   77516      Bachelors             13   \n",
       "1    50   Self-emp-not-inc   83311      Bachelors             13   \n",
       "2    38            Private  215646        HS-grad              9   \n",
       "3    53            Private  234721           11th              7   \n",
       "4    28            Private  338409      Bachelors             13   \n",
       "..  ...                ...     ...            ...            ...   \n",
       "95   29          Local-gov  115585   Some-college             10   \n",
       "96   48   Self-emp-not-inc  191277      Doctorate             16   \n",
       "97   37            Private  202683   Some-college             10   \n",
       "98   48            Private  171095     Assoc-acdm             12   \n",
       "99   32        Federal-gov  249409        HS-grad              9   \n",
       "\n",
       "         marital-status          occupation    relationship    race      sex  \\\n",
       "0         Never-married        Adm-clerical   Not-in-family   White     Male   \n",
       "1    Married-civ-spouse     Exec-managerial         Husband   White     Male   \n",
       "2              Divorced   Handlers-cleaners   Not-in-family   White     Male   \n",
       "3    Married-civ-spouse   Handlers-cleaners         Husband   Black     Male   \n",
       "4    Married-civ-spouse      Prof-specialty            Wife   Black   Female   \n",
       "..                  ...                 ...             ...     ...      ...   \n",
       "95        Never-married   Handlers-cleaners   Not-in-family   White     Male   \n",
       "96   Married-civ-spouse      Prof-specialty         Husband   White     Male   \n",
       "97   Married-civ-spouse               Sales         Husband   White     Male   \n",
       "98             Divorced     Exec-managerial       Unmarried   White   Female   \n",
       "99        Never-married       Other-service       Own-child   Black     Male   \n",
       "\n",
       "    capital-gain  capital-loss  hours-per-week  native-country income category  \n",
       "0           2174             0              40   United-States           <=50K  \n",
       "1              0             0              13   United-States           <=50K  \n",
       "2              0             0              40   United-States           <=50K  \n",
       "3              0             0              40   United-States           <=50K  \n",
       "4              0             0              40            Cuba           <=50K  \n",
       "..           ...           ...             ...             ...             ...  \n",
       "95             0             0              50   United-States           <=50K  \n",
       "96             0          1902              60   United-States            >50K  \n",
       "97             0             0              48   United-States            >50K  \n",
       "98             0             0              40         England           <=50K  \n",
       "99             0             0              40   United-States           <=50K  \n",
       "\n",
       "[100 rows x 15 columns]"
      ]
     },
     "execution_count": 3,
     "metadata": {},
     "output_type": "execute_result"
    }
   ],
   "source": [
    "# Data Visualization\n",
    "df_new.info()\n",
    "df_new.head(100)"
   ]
  },
  {
   "cell_type": "code",
   "execution_count": 4,
   "metadata": {
    "pycharm": {
     "name": "#%%\n"
    }
   },
   "outputs": [
    {
     "name": "stdout",
     "output_type": "stream",
     "text": [
      " Private             22696\n",
      " Self-emp-not-inc     2541\n",
      " Local-gov            2093\n",
      " ?                    1836\n",
      " State-gov            1298\n",
      " Self-emp-inc         1116\n",
      " Federal-gov           960\n",
      " Without-pay            14\n",
      " Never-worked            7\n",
      "Name: workclass, dtype: int64\n",
      " Prof-specialty       4140\n",
      " Craft-repair         4099\n",
      " Exec-managerial      4066\n",
      " Adm-clerical         3770\n",
      " Sales                3650\n",
      " Other-service        3295\n",
      " Machine-op-inspct    2002\n",
      " ?                    1843\n",
      " Transport-moving     1597\n",
      " Handlers-cleaners    1370\n",
      " Farming-fishing       994\n",
      " Tech-support          928\n",
      " Protective-serv       649\n",
      " Priv-house-serv       149\n",
      " Armed-Forces            9\n",
      "Name: occupation, dtype: int64\n",
      " United-States                 29170\n",
      " Mexico                          643\n",
      " ?                               583\n",
      " Philippines                     198\n",
      " Germany                         137\n",
      " Canada                          121\n",
      " Puerto-Rico                     114\n",
      " El-Salvador                     106\n",
      " India                           100\n",
      " Cuba                             95\n",
      " England                          90\n",
      " Jamaica                          81\n",
      " South                            80\n",
      " China                            75\n",
      " Italy                            73\n",
      " Dominican-Republic               70\n",
      " Vietnam                          67\n",
      " Guatemala                        64\n",
      " Japan                            62\n",
      " Poland                           60\n",
      " Columbia                         59\n",
      " Taiwan                           51\n",
      " Haiti                            44\n",
      " Iran                             43\n",
      " Portugal                         37\n",
      " Nicaragua                        34\n",
      " Peru                             31\n",
      " France                           29\n",
      " Greece                           29\n",
      " Ecuador                          28\n",
      " Ireland                          24\n",
      " Hong                             20\n",
      " Cambodia                         19\n",
      " Trinadad&Tobago                  19\n",
      " Laos                             18\n",
      " Thailand                         18\n",
      " Yugoslavia                       16\n",
      " Outlying-US(Guam-USVI-etc)       14\n",
      " Honduras                         13\n",
      " Hungary                          13\n",
      " Scotland                         12\n",
      " Holand-Netherlands                1\n",
      "Name: native-country, dtype: int64\n"
     ]
    }
   ],
   "source": [
    "# missing '?' values in Dataset\n",
    "print(df_new.workclass.value_counts())\n",
    "print(df_new.occupation.value_counts())\n",
    "print(df_new['native-country'].value_counts())"
   ]
  },
  {
   "cell_type": "code",
   "execution_count": 5,
   "metadata": {
    "pycharm": {
     "name": "#%%\n"
    }
   },
   "outputs": [],
   "source": [
    "# Replacing the missing value with Most Frequently Occurring Values in each 3 columns\n",
    "df_new['workclass']= df_new['workclass'].str.replace(\"?\",\"Private\",regex=True)\n",
    "df_new['occupation']= df_new['occupation'].str.replace(\"?\",\"Prof-specialty\",regex=True)\n",
    "df_new['native-country']= df_new['native-country'].str.replace(\"?\",\"United-States\",regex=True)"
   ]
  },
  {
   "cell_type": "code",
   "execution_count": 6,
   "metadata": {
    "pycharm": {
     "name": "#%%\n"
    }
   },
   "outputs": [
    {
     "name": "stdout",
     "output_type": "stream",
     "text": [
      " Private             24532\n",
      " Self-emp-not-inc     2541\n",
      " Local-gov            2093\n",
      " State-gov            1298\n",
      " Self-emp-inc         1116\n",
      " Federal-gov           960\n",
      " Without-pay            14\n",
      " Never-worked            7\n",
      "Name: workclass, dtype: int64\n",
      " Prof-specialty       5983\n",
      " Craft-repair         4099\n",
      " Exec-managerial      4066\n",
      " Adm-clerical         3770\n",
      " Sales                3650\n",
      " Other-service        3295\n",
      " Machine-op-inspct    2002\n",
      " Transport-moving     1597\n",
      " Handlers-cleaners    1370\n",
      " Farming-fishing       994\n",
      " Tech-support          928\n",
      " Protective-serv       649\n",
      " Priv-house-serv       149\n",
      " Armed-Forces            9\n",
      "Name: occupation, dtype: int64\n",
      " United-States                 29753\n",
      " Mexico                          643\n",
      " Philippines                     198\n",
      " Germany                         137\n",
      " Canada                          121\n",
      " Puerto-Rico                     114\n",
      " El-Salvador                     106\n",
      " India                           100\n",
      " Cuba                             95\n",
      " England                          90\n",
      " Jamaica                          81\n",
      " South                            80\n",
      " China                            75\n",
      " Italy                            73\n",
      " Dominican-Republic               70\n",
      " Vietnam                          67\n",
      " Guatemala                        64\n",
      " Japan                            62\n",
      " Poland                           60\n",
      " Columbia                         59\n",
      " Taiwan                           51\n",
      " Haiti                            44\n",
      " Iran                             43\n",
      " Portugal                         37\n",
      " Nicaragua                        34\n",
      " Peru                             31\n",
      " France                           29\n",
      " Greece                           29\n",
      " Ecuador                          28\n",
      " Ireland                          24\n",
      " Hong                             20\n",
      " Cambodia                         19\n",
      " Trinadad&Tobago                  19\n",
      " Laos                             18\n",
      " Thailand                         18\n",
      " Yugoslavia                       16\n",
      " Outlying-US(Guam-USVI-etc)       14\n",
      " Honduras                         13\n",
      " Hungary                          13\n",
      " Scotland                         12\n",
      " Holand-Netherlands                1\n",
      "Name: native-country, dtype: int64\n",
      "age                0\n",
      "workclass          0\n",
      "fnlwgt             0\n",
      "education          0\n",
      "education-num      0\n",
      "marital-status     0\n",
      "occupation         0\n",
      "relationship       0\n",
      "race               0\n",
      "sex                0\n",
      "capital-gain       0\n",
      "capital-loss       0\n",
      "hours-per-week     0\n",
      "native-country     0\n",
      "income category    0\n",
      "dtype: int64\n"
     ]
    }
   ],
   "source": [
    "# visualize the Missing value removal\n",
    "\n",
    "print(df_new.workclass.value_counts())\n",
    "print(df_new.occupation.value_counts())\n",
    "print(df_new['native-country'].value_counts())\n",
    "print(df_new.isnull().sum())"
   ]
  },
  {
   "cell_type": "code",
   "execution_count": 7,
   "metadata": {
    "pycharm": {
     "name": "#%%\n"
    }
   },
   "outputs": [],
   "source": [
    "# converting the categorical data to Numerical Data\n",
    "\n",
    "category_col =['workclass', 'education','marital-status', 'occupation',\n",
    "               'relationship', 'native-country','race', 'sex','income category']\n",
    "\n",
    "\n",
    "\n",
    "labelEncoder = preprocessing.LabelEncoder()\n",
    "\n",
    "for col in category_col:\n",
    "    df_new[col] = labelEncoder.fit_transform(df_new[col])\n",
    "\n",
    "# SquareRoot and CubeRoot Transformation which makes the ML model to learn easily\n",
    "df_new['fnlwgt']= np.sqrt(df_new['fnlwgt'])\n",
    "df_new['capital-loss']= np.cbrt(df_new['capital-loss'])\n",
    "df_new['capital-gain']=np.cbrt(df_new['capital-gain'])\n",
    "# making a copy of the data frame\n",
    "\n",
    "df_new.to_csv(sab_absolute_path+'/Dataset/adult_PPNumerical.csv',index=False)\n"
   ]
  },
  {
   "cell_type": "code",
   "execution_count": 8,
   "metadata": {
    "pycharm": {
     "name": "#%%\n"
    }
   },
   "outputs": [
    {
     "data": {
      "text/html": [
       "<div>\n",
       "<style scoped>\n",
       "    .dataframe tbody tr th:only-of-type {\n",
       "        vertical-align: middle;\n",
       "    }\n",
       "\n",
       "    .dataframe tbody tr th {\n",
       "        vertical-align: top;\n",
       "    }\n",
       "\n",
       "    .dataframe thead th {\n",
       "        text-align: right;\n",
       "    }\n",
       "</style>\n",
       "<table border=\"1\" class=\"dataframe\">\n",
       "  <thead>\n",
       "    <tr style=\"text-align: right;\">\n",
       "      <th></th>\n",
       "      <th>age</th>\n",
       "      <th>workclass</th>\n",
       "      <th>fnlwgt</th>\n",
       "      <th>education</th>\n",
       "      <th>education-num</th>\n",
       "      <th>marital-status</th>\n",
       "      <th>occupation</th>\n",
       "      <th>relationship</th>\n",
       "      <th>race</th>\n",
       "      <th>sex</th>\n",
       "      <th>capital-gain</th>\n",
       "      <th>capital-loss</th>\n",
       "      <th>hours-per-week</th>\n",
       "      <th>native-country</th>\n",
       "      <th>income category</th>\n",
       "    </tr>\n",
       "  </thead>\n",
       "  <tbody>\n",
       "    <tr>\n",
       "      <th>0</th>\n",
       "      <td>39</td>\n",
       "      <td>6</td>\n",
       "      <td>278.416954</td>\n",
       "      <td>9</td>\n",
       "      <td>13</td>\n",
       "      <td>4</td>\n",
       "      <td>0</td>\n",
       "      <td>1</td>\n",
       "      <td>4</td>\n",
       "      <td>1</td>\n",
       "      <td>12.954476</td>\n",
       "      <td>0.000000</td>\n",
       "      <td>40</td>\n",
       "      <td>38</td>\n",
       "      <td>0</td>\n",
       "    </tr>\n",
       "    <tr>\n",
       "      <th>1</th>\n",
       "      <td>50</td>\n",
       "      <td>5</td>\n",
       "      <td>288.636450</td>\n",
       "      <td>9</td>\n",
       "      <td>13</td>\n",
       "      <td>2</td>\n",
       "      <td>3</td>\n",
       "      <td>0</td>\n",
       "      <td>4</td>\n",
       "      <td>1</td>\n",
       "      <td>0.000000</td>\n",
       "      <td>0.000000</td>\n",
       "      <td>13</td>\n",
       "      <td>38</td>\n",
       "      <td>0</td>\n",
       "    </tr>\n",
       "    <tr>\n",
       "      <th>2</th>\n",
       "      <td>38</td>\n",
       "      <td>3</td>\n",
       "      <td>464.377002</td>\n",
       "      <td>11</td>\n",
       "      <td>9</td>\n",
       "      <td>0</td>\n",
       "      <td>5</td>\n",
       "      <td>1</td>\n",
       "      <td>4</td>\n",
       "      <td>1</td>\n",
       "      <td>0.000000</td>\n",
       "      <td>0.000000</td>\n",
       "      <td>40</td>\n",
       "      <td>38</td>\n",
       "      <td>0</td>\n",
       "    </tr>\n",
       "    <tr>\n",
       "      <th>3</th>\n",
       "      <td>53</td>\n",
       "      <td>3</td>\n",
       "      <td>484.480134</td>\n",
       "      <td>1</td>\n",
       "      <td>7</td>\n",
       "      <td>2</td>\n",
       "      <td>5</td>\n",
       "      <td>0</td>\n",
       "      <td>2</td>\n",
       "      <td>1</td>\n",
       "      <td>0.000000</td>\n",
       "      <td>0.000000</td>\n",
       "      <td>40</td>\n",
       "      <td>38</td>\n",
       "      <td>0</td>\n",
       "    </tr>\n",
       "    <tr>\n",
       "      <th>4</th>\n",
       "      <td>28</td>\n",
       "      <td>3</td>\n",
       "      <td>581.729318</td>\n",
       "      <td>9</td>\n",
       "      <td>13</td>\n",
       "      <td>2</td>\n",
       "      <td>9</td>\n",
       "      <td>5</td>\n",
       "      <td>2</td>\n",
       "      <td>0</td>\n",
       "      <td>0.000000</td>\n",
       "      <td>0.000000</td>\n",
       "      <td>40</td>\n",
       "      <td>4</td>\n",
       "      <td>0</td>\n",
       "    </tr>\n",
       "    <tr>\n",
       "      <th>...</th>\n",
       "      <td>...</td>\n",
       "      <td>...</td>\n",
       "      <td>...</td>\n",
       "      <td>...</td>\n",
       "      <td>...</td>\n",
       "      <td>...</td>\n",
       "      <td>...</td>\n",
       "      <td>...</td>\n",
       "      <td>...</td>\n",
       "      <td>...</td>\n",
       "      <td>...</td>\n",
       "      <td>...</td>\n",
       "      <td>...</td>\n",
       "      <td>...</td>\n",
       "      <td>...</td>\n",
       "    </tr>\n",
       "    <tr>\n",
       "      <th>95</th>\n",
       "      <td>29</td>\n",
       "      <td>1</td>\n",
       "      <td>339.977940</td>\n",
       "      <td>15</td>\n",
       "      <td>10</td>\n",
       "      <td>4</td>\n",
       "      <td>5</td>\n",
       "      <td>1</td>\n",
       "      <td>4</td>\n",
       "      <td>1</td>\n",
       "      <td>0.000000</td>\n",
       "      <td>0.000000</td>\n",
       "      <td>50</td>\n",
       "      <td>38</td>\n",
       "      <td>0</td>\n",
       "    </tr>\n",
       "    <tr>\n",
       "      <th>96</th>\n",
       "      <td>48</td>\n",
       "      <td>5</td>\n",
       "      <td>437.352261</td>\n",
       "      <td>10</td>\n",
       "      <td>16</td>\n",
       "      <td>2</td>\n",
       "      <td>9</td>\n",
       "      <td>0</td>\n",
       "      <td>4</td>\n",
       "      <td>1</td>\n",
       "      <td>0.000000</td>\n",
       "      <td>12.389968</td>\n",
       "      <td>60</td>\n",
       "      <td>38</td>\n",
       "      <td>1</td>\n",
       "    </tr>\n",
       "    <tr>\n",
       "      <th>97</th>\n",
       "      <td>37</td>\n",
       "      <td>3</td>\n",
       "      <td>450.203287</td>\n",
       "      <td>15</td>\n",
       "      <td>10</td>\n",
       "      <td>2</td>\n",
       "      <td>11</td>\n",
       "      <td>0</td>\n",
       "      <td>4</td>\n",
       "      <td>1</td>\n",
       "      <td>0.000000</td>\n",
       "      <td>0.000000</td>\n",
       "      <td>48</td>\n",
       "      <td>38</td>\n",
       "      <td>1</td>\n",
       "    </tr>\n",
       "    <tr>\n",
       "      <th>98</th>\n",
       "      <td>48</td>\n",
       "      <td>3</td>\n",
       "      <td>413.636314</td>\n",
       "      <td>7</td>\n",
       "      <td>12</td>\n",
       "      <td>0</td>\n",
       "      <td>3</td>\n",
       "      <td>4</td>\n",
       "      <td>4</td>\n",
       "      <td>0</td>\n",
       "      <td>0.000000</td>\n",
       "      <td>0.000000</td>\n",
       "      <td>40</td>\n",
       "      <td>8</td>\n",
       "      <td>0</td>\n",
       "    </tr>\n",
       "    <tr>\n",
       "      <th>99</th>\n",
       "      <td>32</td>\n",
       "      <td>0</td>\n",
       "      <td>499.408650</td>\n",
       "      <td>11</td>\n",
       "      <td>9</td>\n",
       "      <td>4</td>\n",
       "      <td>7</td>\n",
       "      <td>3</td>\n",
       "      <td>2</td>\n",
       "      <td>1</td>\n",
       "      <td>0.000000</td>\n",
       "      <td>0.000000</td>\n",
       "      <td>40</td>\n",
       "      <td>38</td>\n",
       "      <td>0</td>\n",
       "    </tr>\n",
       "  </tbody>\n",
       "</table>\n",
       "<p>100 rows × 15 columns</p>\n",
       "</div>"
      ],
      "text/plain": [
       "    age  workclass      fnlwgt  education  education-num  marital-status  \\\n",
       "0    39          6  278.416954          9             13               4   \n",
       "1    50          5  288.636450          9             13               2   \n",
       "2    38          3  464.377002         11              9               0   \n",
       "3    53          3  484.480134          1              7               2   \n",
       "4    28          3  581.729318          9             13               2   \n",
       "..  ...        ...         ...        ...            ...             ...   \n",
       "95   29          1  339.977940         15             10               4   \n",
       "96   48          5  437.352261         10             16               2   \n",
       "97   37          3  450.203287         15             10               2   \n",
       "98   48          3  413.636314          7             12               0   \n",
       "99   32          0  499.408650         11              9               4   \n",
       "\n",
       "    occupation  relationship  race  sex  capital-gain  capital-loss  \\\n",
       "0            0             1     4    1     12.954476      0.000000   \n",
       "1            3             0     4    1      0.000000      0.000000   \n",
       "2            5             1     4    1      0.000000      0.000000   \n",
       "3            5             0     2    1      0.000000      0.000000   \n",
       "4            9             5     2    0      0.000000      0.000000   \n",
       "..         ...           ...   ...  ...           ...           ...   \n",
       "95           5             1     4    1      0.000000      0.000000   \n",
       "96           9             0     4    1      0.000000     12.389968   \n",
       "97          11             0     4    1      0.000000      0.000000   \n",
       "98           3             4     4    0      0.000000      0.000000   \n",
       "99           7             3     2    1      0.000000      0.000000   \n",
       "\n",
       "    hours-per-week  native-country  income category  \n",
       "0               40              38                0  \n",
       "1               13              38                0  \n",
       "2               40              38                0  \n",
       "3               40              38                0  \n",
       "4               40               4                0  \n",
       "..             ...             ...              ...  \n",
       "95              50              38                0  \n",
       "96              60              38                1  \n",
       "97              48              38                1  \n",
       "98              40               8                0  \n",
       "99              40              38                0  \n",
       "\n",
       "[100 rows x 15 columns]"
      ]
     },
     "execution_count": 8,
     "metadata": {},
     "output_type": "execute_result"
    }
   ],
   "source": [
    "# view the converted dataframe\n",
    "df_new.head(100)"
   ]
  },
  {
   "cell_type": "code",
   "execution_count": 9,
   "metadata": {
    "pycharm": {
     "name": "#%%\n"
    }
   },
   "outputs": [
    {
     "data": {
      "image/png": "[encoded data removed]",
      "text/plain": [
       "<Figure size 1080x1080 with 2 Axes>"
      ]
     },
     "metadata": {
      "needs_background": "light"
     },
     "output_type": "display_data"
    }
   ],
   "source": [
    "# correlation between the preprocessed data\n",
    "fig, ax = plt.subplots(figsize=(15,15))\n",
    "Hm=sns.heatmap(df_new.corr(),annot=True,linewidths=3.5, ax=ax,cmap = \"Blues_r\")\n",
    "figure=Hm.get_figure()\n",
    "figure.savefig(sab_absolute_path+'/Metrics_Images/CorelationHM_PPNumeric',dpi=560)"
   ]
  },
  {
   "cell_type": "code",
   "execution_count": 10,
   "metadata": {
    "pycharm": {
     "name": "#%%\n"
    }
   },
   "outputs": [],
   "source": [
    "# Split the train and Test data\n",
    "\n",
    "sc = StandardScaler()\n",
    "ds_x=df_new.drop('income category',axis='columns')\n",
    "data =sc.fit_transform(ds_x)\n",
    "x=pd.DataFrame(data,columns=ds_x.columns)\n",
    "# split data into dependent and independent before scaling\n",
    "X = df_new.values[:, 0:14]\n",
    "X= sc.fit_transform(X)\n",
    "y = df_new.values[:,14]\n",
    "\n",
    "X_train, X_test, y_train, y_test = train_test_split( X, y, test_size = 0.3, random_state = 11)\n"
   ]
  },
  {
   "cell_type": "code",
   "execution_count": 11,
   "metadata": {
    "pycharm": {
     "name": "#%%\n"
    }
   },
   "outputs": [
    {
     "name": "stdout",
     "output_type": "stream",
     "text": [
      "(22792, 14)\n",
      "(9769, 14)\n",
      "(22792,)\n",
      "(9769,)\n",
      "[[ 0.03067056  2.62429763 -1.17386922 ... -0.22055547 -0.03542945\n",
      "   0.26136999]\n",
      " [ 0.83710898  1.72109965 -1.08846337 ... -0.22055547 -2.22215312\n",
      "   0.26136999]\n",
      " [-0.04264203 -0.08529633  0.38022654 ... -0.22055547 -0.03542945\n",
      "   0.26136999]\n",
      " ...\n",
      " [ 1.42360965 -0.08529633 -0.24338947 ... -0.22055547 -0.03542945\n",
      "   0.26136999]\n",
      " [-1.21564337 -0.08529633  0.2506855  ... -0.22055547 -1.65522476\n",
      "   0.26136999]\n",
      " [ 0.98373415  0.81790166  0.98370706 ... -0.22055547 -0.03542945\n",
      "   0.26136999]]\n"
     ]
    }
   ],
   "source": [
    "# shape of the input data to be passed through the ML classifiers\n",
    "print(X_train.shape)\n",
    "print(X_test.shape)\n",
    "print(y_train.shape)\n",
    "print(y_test.shape)\n",
    "print(X)"
   ]
  },
  {
   "cell_type": "code",
   "execution_count": 12,
   "metadata": {
    "pycharm": {
     "name": "#%%\n"
    }
   },
   "outputs": [],
   "source": [
    "# creating instances for classification models\n",
    "\n",
    "xg=xgb.XGBClassifier(random_state = 11,booster='dart',colsample_bytree=0.8,subsample=0.9,learning_rate= 0.00001,max_depth=13,min_child_weight=1.5,max_delta_step=10)\n",
    "svc =SVC(random_state = 11)\n",
    "lg =LogisticRegression(random_state = 11)\n",
    "bg=BaggingClassifier(random_state = 11)\n",
    "rf=RandomForestClassifier(random_state = 11)\n",
    "gb=GradientBoostingClassifier(random_state = 15)\n"
   ]
  },
  {
   "cell_type": "code",
   "execution_count": 13,
   "metadata": {
    "pycharm": {
     "name": "#%%\n"
    }
   },
   "outputs": [
    {
     "name": "stdout",
     "output_type": "stream",
     "text": [
      "XGBClassifier(base_score=0.5, booster='dart', callbacks=None,\n",
      "              colsample_bylevel=1, colsample_bynode=1, colsample_bytree=0.8,\n",
      "              early_stopping_rounds=None, enable_categorical=False,\n",
      "              eval_metric=None, gamma=0, gpu_id=-1, grow_policy='depthwise',\n",
      "              importance_type=None, interaction_constraints='',\n",
      "              learning_rate=1e-05, max_bin=256, max_cat_to_onehot=4,\n",
      "              max_delta_step=10, max_depth=13, max_leaves=0,\n",
      "              min_child_weight=1.5, missing=nan, monotone_constraints='()',\n",
      "              n_estimators=100, n_jobs=0, num_parallel_tree=1, predictor='auto',\n",
      "              random_state=11, reg_alpha=0, reg_lambda=1, ...)\n",
      "Accuracy Score for test data, 86.59023441498618\n",
      "Accuracy Score for train data 89.07511407511407\n",
      "              precision    recall  f1-score   support\n",
      "\n",
      "         0.0       0.89      0.94      0.91      7490\n",
      "         1.0       0.75      0.63      0.69      2279\n",
      "\n",
      "    accuracy                           0.87      9769\n",
      "   macro avg       0.82      0.78      0.80      9769\n",
      "weighted avg       0.86      0.87      0.86      9769\n",
      "\n",
      "Confusion Matrix for the Model XGBClassifier(base_score=0.5, booster='dart', callbacks=None,\n",
      "              colsample_bylevel=1, colsample_bynode=1, colsample_bytree=0.8,\n",
      "              early_stopping_rounds=None, enable_categorical=False,\n",
      "              eval_metric=None, gamma=0, gpu_id=-1, grow_policy='depthwise',\n",
      "              importance_type=None, interaction_constraints='',\n",
      "              learning_rate=1e-05, max_bin=256, max_cat_to_onehot=4,\n",
      "              max_delta_step=10, max_depth=13, max_leaves=0,\n",
      "              min_child_weight=1.5, missing=nan, monotone_constraints='()',\n",
      "              n_estimators=100, n_jobs=0, num_parallel_tree=1, predictor='auto',\n",
      "              random_state=11, reg_alpha=0, reg_lambda=1, ...)\n",
      "[[7020  470]\n",
      " [ 840 1439]]\n",
      "................................................................\n",
      "SVC(random_state=11)\n",
      "Accuracy Score for test data, 85.15712969597708\n",
      "Accuracy Score for train data 85.63969813969814\n",
      "              precision    recall  f1-score   support\n",
      "\n",
      "         0.0       0.87      0.94      0.91      7490\n",
      "         1.0       0.75      0.55      0.63      2279\n",
      "\n",
      "    accuracy                           0.85      9769\n",
      "   macro avg       0.81      0.75      0.77      9769\n",
      "weighted avg       0.84      0.85      0.84      9769\n",
      "\n",
      "Confusion Matrix for the Model SVC(random_state=11)\n",
      "[[7065  425]\n",
      " [1025 1254]]\n",
      "................................................................\n",
      "LogisticRegression(random_state=11)\n",
      "Accuracy Score for test data, 82.00429931415702\n",
      "Accuracy Score for train data 82.01123201123201\n",
      "              precision    recall  f1-score   support\n",
      "\n",
      "         0.0       0.85      0.93      0.89      7490\n",
      "         1.0       0.67      0.45      0.54      2279\n",
      "\n",
      "    accuracy                           0.82      9769\n",
      "   macro avg       0.76      0.69      0.71      9769\n",
      "weighted avg       0.81      0.82      0.81      9769\n",
      "\n",
      "Confusion Matrix for the Model LogisticRegression(random_state=11)\n",
      "[[6992  498]\n",
      " [1260 1019]]\n",
      "................................................................\n",
      "BaggingClassifier(random_state=11)\n",
      "Accuracy Score for test data, 84.54294195925888\n",
      "Accuracy Score for train data 98.57406107406106\n",
      "              precision    recall  f1-score   support\n",
      "\n",
      "         0.0       0.88      0.93      0.90      7490\n",
      "         1.0       0.70      0.58      0.64      2279\n",
      "\n",
      "    accuracy                           0.85      9769\n",
      "   macro avg       0.79      0.75      0.77      9769\n",
      "weighted avg       0.84      0.85      0.84      9769\n",
      "\n",
      "Confusion Matrix for the Model BaggingClassifier(random_state=11)\n",
      "[[6934  556]\n",
      " [ 954 1325]]\n",
      "................................................................\n",
      "RandomForestClassifier(random_state=11)\n",
      "Accuracy Score for test data, 85.98628314054663\n",
      "Accuracy Score for train data 100.0\n",
      "              precision    recall  f1-score   support\n",
      "\n",
      "         0.0       0.89      0.93      0.91      7490\n",
      "         1.0       0.73      0.64      0.68      2279\n",
      "\n",
      "    accuracy                           0.86      9769\n",
      "   macro avg       0.81      0.78      0.79      9769\n",
      "weighted avg       0.86      0.86      0.86      9769\n",
      "\n",
      "Confusion Matrix for the Model RandomForestClassifier(random_state=11)\n",
      "[[6948  542]\n",
      " [ 827 1452]]\n",
      "................................................................\n",
      "GradientBoostingClassifier(random_state=15)\n",
      "Accuracy Score for test data, 86.41621455624936\n",
      "Accuracy Score for train data 86.71024921024922\n",
      "              precision    recall  f1-score   support\n",
      "\n",
      "         0.0       0.88      0.95      0.91      7490\n",
      "         1.0       0.77      0.59      0.67      2279\n",
      "\n",
      "    accuracy                           0.86      9769\n",
      "   macro avg       0.83      0.77      0.79      9769\n",
      "weighted avg       0.86      0.86      0.86      9769\n",
      "\n",
      "Confusion Matrix for the Model GradientBoostingClassifier(random_state=15)\n",
      "[[7089  401]\n",
      " [ 926 1353]]\n",
      "................................................................\n"
     ]
    }
   ],
   "source": [
    "for i in [xg,svc,lg,bg,rf,gb]:\n",
    "    i.fit(X_train,y_train)\n",
    "    pred =i.predict(X_test)\n",
    "    test_score=accuracy_score(y_test,pred)\n",
    "    train_score=accuracy_score(y_train,i.predict(X_train))\n",
    "    print(i)\n",
    "    print('Accuracy Score for test data,',accuracy_score(y_test,pred)*100)\n",
    "    print('Accuracy Score for train data',accuracy_score(y_train,i.predict(X_train))*100)\n",
    "    print(classification_report(y_test,pred))\n",
    "    print('Confusion Matrix for the Model',i)\n",
    "    print(confusion_matrix(y_test,pred))\n",
    "    print('................................................................')"
   ]
  },
  {
   "cell_type": "code",
   "execution_count": 14,
   "metadata": {
    "pycharm": {
     "name": "#%%\n"
    }
   },
   "outputs": [
    {
     "name": "stdout",
     "output_type": "stream",
     "text": [
      "KFold: 2 GradientBoostingClassifier(random_state=15) 0.8639784553134471\n",
      "KFold: 3 GradientBoostingClassifier(random_state=15) 0.8644391356032023\n",
      "KFold: 4 GradientBoostingClassifier(random_state=15) 0.8642548206714157\n",
      "KFold: 5 GradientBoostingClassifier(random_state=15) 0.8638863597695933\n",
      "KFold: 6 GradientBoostingClassifier(random_state=15) 0.8644083793036476\n",
      "KFold: 7 GradientBoostingClassifier(random_state=15) 0.8640399874381306\n",
      "KFold: 8 GradientBoostingClassifier(random_state=15) 0.8639171822388476\n",
      "KFold: 9 GradientBoostingClassifier(random_state=15) 0.8637019237259671\n",
      "KFold: 10 GradientBoostingClassifier(random_state=15) 0.8644699301975937\n"
     ]
    }
   ],
   "source": [
    "# Performing KFold cross Validation with highest accuracy model: Gradient Boosting Clasifier\n",
    "\n",
    "for i in range(2,11):\n",
    "    cv = cross_val_score(gb,X,y,cv=i)\n",
    "    print('KFold:',i,gb,cv.mean())"
   ]
  },
  {
   "cell_type": "code",
   "execution_count": 15,
   "metadata": {
    "pycharm": {
     "name": "#%%\n"
    }
   },
   "outputs": [
    {
     "name": "stdout",
     "output_type": "stream",
     "text": [
      "KFold: 2 XGBClassifier(base_score=0.5, booster='dart', callbacks=None,\n",
      "              colsample_bylevel=1, colsample_bynode=1, colsample_bytree=0.8,\n",
      "              early_stopping_rounds=None, enable_categorical=False,\n",
      "              eval_metric=None, gamma=0, gpu_id=-1, grow_policy='depthwise',\n",
      "              importance_type=None, interaction_constraints='',\n",
      "              learning_rate=1e-05, max_bin=256, max_cat_to_onehot=4,\n",
      "              max_delta_step=10, max_depth=13, max_leaves=0,\n",
      "              min_child_weight=1.5, missing=nan, monotone_constraints='()',\n",
      "              n_estimators=100, n_jobs=0, num_parallel_tree=1, predictor='auto',\n",
      "              random_state=11, reg_alpha=0, reg_lambda=1, ...) 0.860692291869738\n",
      "KFold: 3 XGBClassifier(base_score=0.5, booster='dart', callbacks=None,\n",
      "              colsample_bylevel=1, colsample_bynode=1, colsample_bytree=0.8,\n",
      "              early_stopping_rounds=None, enable_categorical=False,\n",
      "              eval_metric=None, gamma=0, gpu_id=-1, grow_policy='depthwise',\n",
      "              importance_type=None, interaction_constraints='',\n",
      "              learning_rate=1e-05, max_bin=256, max_cat_to_onehot=4,\n",
      "              max_delta_step=10, max_depth=13, max_leaves=0,\n",
      "              min_child_weight=1.5, missing=nan, monotone_constraints='()',\n",
      "              n_estimators=100, n_jobs=0, num_parallel_tree=1, predictor='auto',\n",
      "              random_state=11, reg_alpha=0, reg_lambda=1, ...) 0.8633028021480733\n",
      "KFold: 4 XGBClassifier(base_score=0.5, booster='dart', callbacks=None,\n",
      "              colsample_bylevel=1, colsample_bynode=1, colsample_bytree=0.8,\n",
      "              early_stopping_rounds=None, enable_categorical=False,\n",
      "              eval_metric=None, gamma=0, gpu_id=-1, grow_policy='depthwise',\n",
      "              importance_type=None, interaction_constraints='',\n",
      "              learning_rate=1e-05, max_bin=256, max_cat_to_onehot=4,\n",
      "              max_delta_step=10, max_depth=13, max_leaves=0,\n",
      "              min_child_weight=1.5, missing=nan, monotone_constraints='()',\n",
      "              n_estimators=100, n_jobs=0, num_parallel_tree=1, predictor='auto',\n",
      "              random_state=11, reg_alpha=0, reg_lambda=1, ...) 0.8624429247172154\n",
      "KFold: 5 XGBClassifier(base_score=0.5, booster='dart', callbacks=None,\n",
      "              colsample_bylevel=1, colsample_bynode=1, colsample_bytree=0.8,\n",
      "              early_stopping_rounds=None, enable_categorical=False,\n",
      "              eval_metric=None, gamma=0, gpu_id=-1, grow_policy='depthwise',\n",
      "              importance_type=None, interaction_constraints='',\n",
      "              learning_rate=1e-05, max_bin=256, max_cat_to_onehot=4,\n",
      "              max_delta_step=10, max_depth=13, max_leaves=0,\n",
      "              min_child_weight=1.5, missing=nan, monotone_constraints='()',\n",
      "              n_estimators=100, n_jobs=0, num_parallel_tree=1, predictor='auto',\n",
      "              random_state=11, reg_alpha=0, reg_lambda=1, ...) 0.8637942599020443\n",
      "KFold: 6 XGBClassifier(base_score=0.5, booster='dart', callbacks=None,\n",
      "              colsample_bylevel=1, colsample_bynode=1, colsample_bytree=0.8,\n",
      "              early_stopping_rounds=None, enable_categorical=False,\n",
      "              eval_metric=None, gamma=0, gpu_id=-1, grow_policy='depthwise',\n",
      "              importance_type=None, interaction_constraints='',\n",
      "              learning_rate=1e-05, max_bin=256, max_cat_to_onehot=4,\n",
      "              max_delta_step=10, max_depth=13, max_leaves=0,\n",
      "              min_child_weight=1.5, missing=nan, monotone_constraints='()',\n",
      "              n_estimators=100, n_jobs=0, num_parallel_tree=1, predictor='auto',\n",
      "              random_state=11, reg_alpha=0, reg_lambda=1, ...) 0.8636712729010791\n",
      "KFold: 7 XGBClassifier(base_score=0.5, booster='dart', callbacks=None,\n",
      "              colsample_bylevel=1, colsample_bynode=1, colsample_bytree=0.8,\n",
      "              early_stopping_rounds=None, enable_categorical=False,\n",
      "              eval_metric=None, gamma=0, gpu_id=-1, grow_policy='depthwise',\n",
      "              importance_type=None, interaction_constraints='',\n",
      "              learning_rate=1e-05, max_bin=256, max_cat_to_onehot=4,\n",
      "              max_delta_step=10, max_depth=13, max_leaves=0,\n",
      "              min_child_weight=1.5, missing=nan, monotone_constraints='()',\n",
      "              n_estimators=100, n_jobs=0, num_parallel_tree=1, predictor='auto',\n",
      "              random_state=11, reg_alpha=0, reg_lambda=1, ...) 0.8635793098477645\n",
      "KFold: 8 XGBClassifier(base_score=0.5, booster='dart', callbacks=None,\n",
      "              colsample_bylevel=1, colsample_bynode=1, colsample_bytree=0.8,\n",
      "              early_stopping_rounds=None, enable_categorical=False,\n",
      "              eval_metric=None, gamma=0, gpu_id=-1, grow_policy='depthwise',\n",
      "              importance_type=None, interaction_constraints='',\n",
      "              learning_rate=1e-05, max_bin=256, max_cat_to_onehot=4,\n",
      "              max_delta_step=10, max_depth=13, max_leaves=0,\n",
      "              min_child_weight=1.5, missing=nan, monotone_constraints='()',\n",
      "              n_estimators=100, n_jobs=0, num_parallel_tree=1, predictor='auto',\n",
      "              random_state=11, reg_alpha=0, reg_lambda=1, ...) 0.8643779758186538\n",
      "KFold: 9 XGBClassifier(base_score=0.5, booster='dart', callbacks=None,\n",
      "              colsample_bylevel=1, colsample_bynode=1, colsample_bytree=0.8,\n",
      "              early_stopping_rounds=None, enable_categorical=False,\n",
      "              eval_metric=None, gamma=0, gpu_id=-1, grow_policy='depthwise',\n",
      "              importance_type=None, interaction_constraints='',\n",
      "              learning_rate=1e-05, max_bin=256, max_cat_to_onehot=4,\n",
      "              max_delta_step=10, max_depth=13, max_leaves=0,\n",
      "              min_child_weight=1.5, missing=nan, monotone_constraints='()',\n",
      "              n_estimators=100, n_jobs=0, num_parallel_tree=1, predictor='auto',\n",
      "              random_state=11, reg_alpha=0, reg_lambda=1, ...) 0.8641318642556578\n",
      "KFold: 10 XGBClassifier(base_score=0.5, booster='dart', callbacks=None,\n",
      "              colsample_bylevel=1, colsample_bynode=1, colsample_bytree=0.8,\n",
      "              early_stopping_rounds=None, enable_categorical=False,\n",
      "              eval_metric=None, gamma=0, gpu_id=-1, grow_policy='depthwise',\n",
      "              importance_type=None, interaction_constraints='',\n",
      "              learning_rate=1e-05, max_bin=256, max_cat_to_onehot=4,\n",
      "              max_delta_step=10, max_depth=13, max_leaves=0,\n",
      "              min_child_weight=1.5, missing=nan, monotone_constraints='()',\n",
      "              n_estimators=100, n_jobs=0, num_parallel_tree=1, predictor='auto',\n",
      "              random_state=11, reg_alpha=0, reg_lambda=1, ...) 0.864777112082915\n"
     ]
    }
   ],
   "source": [
    "# Performing KFold cross Validation with highest accuracy model: XgBoost Clasifier\n",
    "\n",
    "for i in range(2,11):\n",
    "    cv = cross_val_score(xg,x,y,cv=i)\n",
    "    print('KFold:',i,xg,cv.mean())"
   ]
  },
  {
   "cell_type": "code",
   "execution_count": 16,
   "metadata": {
    "pycharm": {
     "name": "#%%\n"
    }
   },
   "outputs": [],
   "source": [
    "# hyper tuning the model\n",
    "params ={'learning_rate':[0.1,0.01],'max_depth':[3,4,5],'min_samples_leaf':[1,2],\n",
    "         'min_samples_split':[2,3],'n_estimators':[10,50,100],'random_state':[15]}"
   ]
  },
  {
   "cell_type": "code",
   "execution_count": 19,
   "metadata": {
    "pycharm": {
     "name": "#%%\n"
    }
   },
   "outputs": [
    {
     "data": {
      "text/plain": [
       "GridSearchCV(estimator=GradientBoostingClassifier(random_state=15),\n",
       "             param_grid={'learning_rate': [0.1, 0.01], 'max_depth': [3, 4, 5],\n",
       "                         'min_samples_leaf': [1, 2],\n",
       "                         'min_samples_split': [2, 3],\n",
       "                         'n_estimators': [10, 50, 100], 'random_state': [15]})"
      ]
     },
     "execution_count": 19,
     "metadata": {},
     "output_type": "execute_result"
    }
   ],
   "source": [
    "gcv=GridSearchCV(gb,params)\n",
    "gcv.fit(X_train,y_train)\n"
   ]
  },
  {
   "cell_type": "code",
   "execution_count": 29,
   "metadata": {
    "pycharm": {
     "name": "#%%\n"
    }
   },
   "outputs": [
    {
     "data": {
      "text/plain": [
       "['/Users/sabareeswarans/Desktop/BD_Lab/lab5_income_predict/Best_Models/GBC_income_predict.sav']"
      ]
     },
     "execution_count": 29,
     "metadata": {},
     "output_type": "execute_result"
    }
   ],
   "source": [
    "# save the best model GradientBoostingClassifier with Hyper Tuned using grid space\n",
    "filename= sab_absolute_path+'/Best_Models/GBC_income_predict.sav'\n",
    "joblib.dump(gcv,filename)"
   ]
  },
  {
   "cell_type": "code",
   "execution_count": 30,
   "metadata": {
    "pycharm": {
     "name": "#%%\n"
    }
   },
   "outputs": [
    {
     "data": {
      "text/plain": [
       "['/Users/sabareeswarans/Desktop/BD_Lab/lab5_income_predict/Best_Models/xgb_income_predict.sav']"
      ]
     },
     "execution_count": 30,
     "metadata": {},
     "output_type": "execute_result"
    }
   ],
   "source": [
    "# save the best model XGBoost with Hyper Tuned\n",
    "filename2= sab_absolute_path+'/Best_Models/xgb_income_predict.sav'\n",
    "joblib.dump(xg,filename2)"
   ]
  },
  {
   "cell_type": "code",
   "execution_count": 22,
   "metadata": {
    "pycharm": {
     "name": "#%%\n"
    }
   },
   "outputs": [
    {
     "name": "stdout",
     "output_type": "stream",
     "text": [
      "Hyper Tuned model:GradientBoostingClassifier, Test Accuracy: 87.23513153854027\n",
      "Hyper tuned model:GradientBoostingClassifier, Train Accuracy: 88.5968760968761\n",
      "Confusion Matrix\n",
      "[[7057  433]\n",
      " [ 814 1465]]\n"
     ]
    }
   ],
   "source": [
    "# loading the saved model 1 ....\n",
    "loaded_model=joblib.load(filename)\n",
    "pred_best =loaded_model.predict(X_test)\n",
    "test_score_best=accuracy_score(y_test,pred_best)\n",
    "train_score_best=accuracy_score(y_train,loaded_model.predict(X_train))\n",
    "print('Hyper Tuned model:GradientBoostingClassifier, Test Accuracy:',test_score_best*100)\n",
    "print('Hyper tuned model:GradientBoostingClassifier, Train Accuracy:',train_score_best*100)\n",
    "print(\"Confusion Matrix\")\n",
    "best_model_array_con=confusion_matrix(y_test,pred_best)\n",
    "print(confusion_matrix(y_test,pred_best))"
   ]
  },
  {
   "cell_type": "code",
   "execution_count": 23,
   "metadata": {
    "pycharm": {
     "name": "#%%\n"
    }
   },
   "outputs": [
    {
     "name": "stdout",
     "output_type": "stream",
     "text": [
      "Hyper Tuned model:XGBoost, Test Accuracy: 86.59023441498618\n",
      "Hyper Tuned model:XGBoost,Train Accuracy: 89.07511407511407\n",
      "Confusion Matrix\n",
      "[[7020  470]\n",
      " [ 840 1439]]\n"
     ]
    }
   ],
   "source": [
    "# Loading the saved model 2....\n",
    "loaded_model=joblib.load(filename2)\n",
    "pred_best2 =loaded_model.predict(X_test)\n",
    "test_score_best2=accuracy_score(y_test,pred_best2)\n",
    "train_score_best2=accuracy_score(y_train,loaded_model.predict(X_train))\n",
    "print('Hyper Tuned model:XGBoost, Test Accuracy:',test_score_best2*100)\n",
    "print('Hyper Tuned model:XGBoost,Train Accuracy:',train_score_best2*100)\n",
    "print(\"Confusion Matrix\")\n",
    "best_model_array_con2=confusion_matrix(y_test,pred_best2)\n",
    "print(confusion_matrix(y_test,pred_best2))"
   ]
  },
  {
   "cell_type": "code",
   "execution_count": 28,
   "metadata": {
    "pycharm": {
     "name": "#%%\n"
    }
   },
   "outputs": [
    {
     "data": {
      "image/png": "[encoded data removed]",
      "text/plain": [
       "<Figure size 576x396 with 2 Axes>"
      ]
     },
     "metadata": {},
     "output_type": "display_data"
    }
   ],
   "source": [
    "# Model 1 Confusion matrix\n",
    "array = best_model_array_con\n",
    "group_names = ['True Neg','False Pos','False Neg','True Pos']\n",
    "\n",
    "group_counts = [\"{0:0.0f}\".format(value) for value in\n",
    "                array.flatten()]\n",
    "\n",
    "group_percentages = [\"{0:.2%}\".format(value) for value in\n",
    "                     array.flatten()/np.sum(array)]\n",
    "\n",
    "labels = [f\"{v1}\\n{v2}\\n{v3}\" for v1, v2, v3 in\n",
    "          zip(group_names,group_counts,group_percentages)]\n",
    "\n",
    "labels = np.asarray(labels).reshape(2,2)\n",
    "\n",
    "ax = sns.heatmap(array, annot=labels, fmt='', cmap='Blues')\n",
    "\n",
    "ax.set_title('HyperTuned Gradient Boosting Classifier  Confusion Matrix\\n\\n');\n",
    "ax.set_xlabel('\\nPredicted Values')\n",
    "ax.set_ylabel('Actual Values ');\n",
    "\n",
    "## Ticket labels - List must be in alphabetical order\n",
    "ax.xaxis.set_ticklabels(['False','True'])\n",
    "ax.yaxis.set_ticklabels(['False','True'])\n",
    "\n",
    "## Display the visualization of the Confusion Matrix.\n",
    "plt.savefig(sab_absolute_path+'/Metrics_Images/GBCConMatrix',dpi=500)\n",
    "plt.show()"
   ]
  },
  {
   "cell_type": "code",
   "execution_count": 27,
   "metadata": {
    "pycharm": {
     "name": "#%%\n"
    }
   },
   "outputs": [
    {
     "data": {
      "image/png": "[encoded data removed]",
      "text/plain": [
       "<Figure size 576x396 with 2 Axes>"
      ]
     },
     "metadata": {},
     "output_type": "display_data"
    }
   ],
   "source": [
    "# Model 2 confusion matrix\n",
    "array = best_model_array_con2\n",
    "group_names = ['True Neg','False Pos','False Neg','True Pos']\n",
    "\n",
    "group_counts = [\"{0:0.0f}\".format(value) for value in\n",
    "                array.flatten()]\n",
    "\n",
    "group_percentages = [\"{0:.2%}\".format(value) for value in\n",
    "                     array.flatten()/np.sum(array)]\n",
    "\n",
    "labels = [f\"{v1}\\n{v2}\\n{v3}\" for v1, v2, v3 in\n",
    "          zip(group_names,group_counts,group_percentages)]\n",
    "\n",
    "labels = np.asarray(labels).reshape(2,2)\n",
    "\n",
    "ax = sns.heatmap(array, annot=labels, fmt='', cmap='Blues')\n",
    "\n",
    "ax.set_title('HyperTuned XGBoost Classifier  Confusion Matrix\\n\\n');\n",
    "ax.set_xlabel('\\nPredicted Values')\n",
    "ax.set_ylabel('Actual Values ');\n",
    "\n",
    "## Ticket labels - List must be in alphabetical order\n",
    "ax.xaxis.set_ticklabels(['False','True'])\n",
    "ax.yaxis.set_ticklabels(['False','True'])\n",
    "\n",
    "## Display the visualization of the Confusion Matrix.\n",
    "\n",
    "plt.savefig(sab_absolute_path+'/Metrics_Images/XgboostConMatrix',dpi=500)\n",
    "plt.show()"
   ]
  },
  {
   "cell_type": "code",
   "execution_count": 26,
   "metadata": {
    "pycharm": {
     "name": "#%%\n"
    }
   },
   "outputs": [
    {
     "data": {
      "image/png": "[encoded data removed]",
      "text/plain": [
       "<Figure size 576x396 with 1 Axes>"
      ]
     },
     "metadata": {},
     "output_type": "display_data"
    }
   ],
   "source": [
    "\n",
    "# ROC Curve - Performance measurement of the classification Problem.\n",
    "# model1- GBC\n",
    "\n",
    "false_positive_rate, true_positive_rate, thresholds = roc_curve(y_test,pred_best,pos_label=1)\n",
    "# model2- XGBoost\n",
    "false_positive_rate2, true_positive_rate2, thresholds2 = roc_curve(y_test,pred_best2,pos_label=1)\n",
    "plt.style.use('seaborn')\n",
    "\n",
    "# roc curve for tpr = fpr\n",
    "random_probs = [0 for i in range(len(y_test))]\n",
    "R_false_positive_rate, R_true_positive_rate, _thr = roc_curve(y_test, random_probs, pos_label=1)\n",
    "\n",
    "\n",
    "# plot roc curves\n",
    "plt.plot(false_positive_rate, true_positive_rate, linestyle='--',color='orange', label='Gradient Boosting Classifier')\n",
    "plt.plot(false_positive_rate2, true_positive_rate2, linestyle='--',color='green', label='XGBoost Classifier')\n",
    "plt.plot(R_false_positive_rate, R_true_positive_rate, linestyle='--', color='blue')\n",
    "# title\n",
    "plt.title('ROC curve')\n",
    "# x label\n",
    "plt.xlabel('False Positive Rate')\n",
    "# y label\n",
    "plt.ylabel('True Positive rate')\n",
    "\n",
    "plt.legend(loc='best')\n",
    "plt.savefig(sab_absolute_path+'/Metrics_Images/ROC',dpi=300)\n",
    "plt.show();\n",
    "\n",
    "\n"
   ]
  },
  {
   "cell_type": "code",
   "execution_count": null,
   "metadata": {
    "pycharm": {
     "name": "#%%\n"
    }
   },
   "outputs": [],
   "source": []
  },
  {
   "cell_type": "code",
   "execution_count": null,
   "metadata": {
    "pycharm": {
     "name": "#%%\n"
    }
   },
   "outputs": [],
   "source": [
    "\n",
    "\n",
    "\n"
   ]
  },
  {
   "cell_type": "code",
   "execution_count": null,
   "metadata": {
    "pycharm": {
     "name": "#%%\n"
    }
   },
   "outputs": [],
   "source": []
  },
  {
   "cell_type": "code",
   "execution_count": null,
   "metadata": {
    "pycharm": {
     "name": "#%%\n"
    }
   },
   "outputs": [],
   "source": [
    "\n"
   ]
  },
  {
   "cell_type": "code",
   "execution_count": null,
   "metadata": {
    "pycharm": {
     "name": "#%%\n"
    }
   },
   "outputs": [],
   "source": [
    "\n"
   ]
  },
  {
   "cell_type": "code",
   "execution_count": null,
   "metadata": {},
   "outputs": [],
   "source": []
  },
  {
   "cell_type": "code",
   "execution_count": null,
   "metadata": {
    "pycharm": {
     "name": "#%%\n"
    }
   },
   "outputs": [],
   "source": []
  },
  {
   "cell_type": "code",
   "execution_count": null,
   "metadata": {
    "pycharm": {
     "name": "#%%\n"
    }
   },
   "outputs": [],
   "source": []
  },
  {
   "cell_type": "code",
   "execution_count": null,
   "metadata": {
    "pycharm": {
     "name": "#%%\n"
    }
   },
   "outputs": [],
   "source": []
  },
  {
   "cell_type": "code",
   "execution_count": null,
   "metadata": {
    "pycharm": {
     "name": "#%%\n"
    }
   },
   "outputs": [],
   "source": []
  },
  {
   "cell_type": "code",
   "execution_count": null,
   "metadata": {
    "pycharm": {
     "name": "#%%\n"
    }
   },
   "outputs": [],
   "source": []
  },
  {
   "cell_type": "code",
   "execution_count": null,
   "metadata": {
    "pycharm": {
     "name": "#%%\n"
    }
   },
   "outputs": [],
   "source": []
  }
 ],
 "metadata": {
  "kernelspec": {
   "display_name": "Python 3 (ipykernel)",
   "language": "python",
   "name": "python3"
  },
  "language_info": {
   "codemirror_mode": {
    "name": "ipython",
    "version": 3
   },
   "file_extension": ".py",
   "mimetype": "text/x-python",
   "name": "python",
   "nbconvert_exporter": "python",
   "pygments_lexer": "ipython3",
   "version": "3.7.9"
  }
 },
 "nbformat": 4,
 "nbformat_minor": 1
}
